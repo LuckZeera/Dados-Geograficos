{
 "cells": [
  {
   "attachments": {},
   "cell_type": "markdown",
   "metadata": {},
   "source": [
    "# Configurando o SRC\n",
    "- Quando um GeoDataFrame é criado a partir de um shapefile, o SRC jé é importado\n"
   ]
  },
  {
   "cell_type": "code",
   "execution_count": 9,
   "metadata": {},
   "outputs": [
    {
     "name": "stdout",
     "output_type": "stream",
     "text": [
      "epsg:32630\n"
     ]
    }
   ],
   "source": [
    "import geopandas as gpd\n",
    "import pandas as pd\n",
    "regions = gpd.read_file('/home/lucas/Python/dados/ghana/ghana/Regions/Map_of_Regions_in_Ghana.shp')\n",
    "print(regions.crs)\n"
   ]
  },
  {
   "attachments": {},
   "cell_type": "markdown",
   "metadata": {},
   "source": [
    " European Petroleum Survey Group (EPSG)\n",
    " \n",
    " Projeção de mercator - preserva os ângulos e distorce levemente as áreas\n",
    " Quando um GeoDataFrame a partir de um arquivo em CSV, o src deve ser setado. Nesse caso ESPG 4632 coordenadas de latitude e longitude"
   ]
  },
  {
   "cell_type": "code",
   "execution_count": 10,
   "metadata": {},
   "outputs": [
    {
     "data": {
      "text/html": [
       "<div>\n",
       "<style scoped>\n",
       "    .dataframe tbody tr th:only-of-type {\n",
       "        vertical-align: middle;\n",
       "    }\n",
       "\n",
       "    .dataframe tbody tr th {\n",
       "        vertical-align: top;\n",
       "    }\n",
       "\n",
       "    .dataframe thead th {\n",
       "        text-align: right;\n",
       "    }\n",
       "</style>\n",
       "<table border=\"1\" class=\"dataframe\">\n",
       "  <thead>\n",
       "    <tr style=\"text-align: right;\">\n",
       "      <th></th>\n",
       "      <th>Region</th>\n",
       "      <th>District</th>\n",
       "      <th>FacilityName</th>\n",
       "      <th>Type</th>\n",
       "      <th>Town</th>\n",
       "      <th>Ownership</th>\n",
       "      <th>Latitude</th>\n",
       "      <th>Longitude</th>\n",
       "    </tr>\n",
       "  </thead>\n",
       "  <tbody>\n",
       "    <tr>\n",
       "      <th>0</th>\n",
       "      <td>Ashanti</td>\n",
       "      <td>Offinso North</td>\n",
       "      <td>A.M.E Zion Clinic</td>\n",
       "      <td>Clinic</td>\n",
       "      <td>Afrancho</td>\n",
       "      <td>CHAG</td>\n",
       "      <td>7.40801</td>\n",
       "      <td>-1.96317</td>\n",
       "    </tr>\n",
       "    <tr>\n",
       "      <th>1</th>\n",
       "      <td>Ashanti</td>\n",
       "      <td>Bekwai Municipal</td>\n",
       "      <td>Abenkyiman Clinic</td>\n",
       "      <td>Clinic</td>\n",
       "      <td>Anwiankwanta</td>\n",
       "      <td>Private</td>\n",
       "      <td>6.46312</td>\n",
       "      <td>-1.58592</td>\n",
       "    </tr>\n",
       "    <tr>\n",
       "      <th>2</th>\n",
       "      <td>Ashanti</td>\n",
       "      <td>Adansi North</td>\n",
       "      <td>Aboabo Health Centre</td>\n",
       "      <td>Health Centre</td>\n",
       "      <td>Aboabo No 2</td>\n",
       "      <td>Government</td>\n",
       "      <td>6.22393</td>\n",
       "      <td>-1.34982</td>\n",
       "    </tr>\n",
       "    <tr>\n",
       "      <th>3</th>\n",
       "      <td>Ashanti</td>\n",
       "      <td>Afigya-Kwabre</td>\n",
       "      <td>Aboabogya Health Centre</td>\n",
       "      <td>Health Centre</td>\n",
       "      <td>Aboabogya</td>\n",
       "      <td>Government</td>\n",
       "      <td>6.84177</td>\n",
       "      <td>-1.61098</td>\n",
       "    </tr>\n",
       "    <tr>\n",
       "      <th>4</th>\n",
       "      <td>Ashanti</td>\n",
       "      <td>Kwabre</td>\n",
       "      <td>Aboaso Health Centre</td>\n",
       "      <td>Health Centre</td>\n",
       "      <td>Aboaso</td>\n",
       "      <td>Government</td>\n",
       "      <td>6.84177</td>\n",
       "      <td>-1.61098</td>\n",
       "    </tr>\n",
       "  </tbody>\n",
       "</table>\n",
       "</div>"
      ],
      "text/plain": [
       "    Region          District             FacilityName           Type  \\\n",
       "0  Ashanti     Offinso North        A.M.E Zion Clinic         Clinic   \n",
       "1  Ashanti  Bekwai Municipal        Abenkyiman Clinic         Clinic   \n",
       "2  Ashanti      Adansi North     Aboabo Health Centre  Health Centre   \n",
       "3  Ashanti     Afigya-Kwabre  Aboabogya Health Centre  Health Centre   \n",
       "4  Ashanti            Kwabre     Aboaso Health Centre  Health Centre   \n",
       "\n",
       "           Town   Ownership  Latitude  Longitude  \n",
       "0      Afrancho        CHAG   7.40801   -1.96317  \n",
       "1  Anwiankwanta     Private   6.46312   -1.58592  \n",
       "2   Aboabo No 2  Government   6.22393   -1.34982  \n",
       "3     Aboabogya  Government   6.84177   -1.61098  \n",
       "4        Aboaso  Government   6.84177   -1.61098  "
      ]
     },
     "execution_count": 10,
     "metadata": {},
     "output_type": "execute_result"
    }
   ],
   "source": [
    "#Criar um DataFrame com unidades de saude em Gana\n",
    "facilities_df = pd.read_csv(\"/home/lucas/Python/dados/ghana/ghana/health_facilities.csv\")\n",
    "facilities_df.head()"
   ]
  },
  {
   "cell_type": "code",
   "execution_count": 11,
   "metadata": {},
   "outputs": [
    {
     "name": "stderr",
     "output_type": "stream",
     "text": [
      "/home/lucas/anaconda3/lib/python3.9/site-packages/pyproj/crs/crs.py:53: FutureWarning: '+init=<authority>:<code>' syntax is deprecated. '<authority>:<code>' is the preferred initialization method. When making the change, be mindful of axis order changes: https://pyproj4.github.io/pyproj/stable/gotchas.html#axis-order-changes-in-proj-6\n",
      "  return _prepare_from_string(\" \".join(pjargs))\n"
     ]
    },
    {
     "data": {
      "text/html": [
       "<div>\n",
       "<style scoped>\n",
       "    .dataframe tbody tr th:only-of-type {\n",
       "        vertical-align: middle;\n",
       "    }\n",
       "\n",
       "    .dataframe tbody tr th {\n",
       "        vertical-align: top;\n",
       "    }\n",
       "\n",
       "    .dataframe thead th {\n",
       "        text-align: right;\n",
       "    }\n",
       "</style>\n",
       "<table border=\"1\" class=\"dataframe\">\n",
       "  <thead>\n",
       "    <tr style=\"text-align: right;\">\n",
       "      <th></th>\n",
       "      <th>Region</th>\n",
       "      <th>District</th>\n",
       "      <th>FacilityName</th>\n",
       "      <th>Type</th>\n",
       "      <th>Town</th>\n",
       "      <th>Ownership</th>\n",
       "      <th>Latitude</th>\n",
       "      <th>Longitude</th>\n",
       "      <th>geometry</th>\n",
       "    </tr>\n",
       "  </thead>\n",
       "  <tbody>\n",
       "    <tr>\n",
       "      <th>0</th>\n",
       "      <td>Ashanti</td>\n",
       "      <td>Offinso North</td>\n",
       "      <td>A.M.E Zion Clinic</td>\n",
       "      <td>Clinic</td>\n",
       "      <td>Afrancho</td>\n",
       "      <td>CHAG</td>\n",
       "      <td>7.40801</td>\n",
       "      <td>-1.96317</td>\n",
       "      <td>POINT (-1.96317 7.40801)</td>\n",
       "    </tr>\n",
       "    <tr>\n",
       "      <th>1</th>\n",
       "      <td>Ashanti</td>\n",
       "      <td>Bekwai Municipal</td>\n",
       "      <td>Abenkyiman Clinic</td>\n",
       "      <td>Clinic</td>\n",
       "      <td>Anwiankwanta</td>\n",
       "      <td>Private</td>\n",
       "      <td>6.46312</td>\n",
       "      <td>-1.58592</td>\n",
       "      <td>POINT (-1.58592 6.46312)</td>\n",
       "    </tr>\n",
       "    <tr>\n",
       "      <th>2</th>\n",
       "      <td>Ashanti</td>\n",
       "      <td>Adansi North</td>\n",
       "      <td>Aboabo Health Centre</td>\n",
       "      <td>Health Centre</td>\n",
       "      <td>Aboabo No 2</td>\n",
       "      <td>Government</td>\n",
       "      <td>6.22393</td>\n",
       "      <td>-1.34982</td>\n",
       "      <td>POINT (-1.34982 6.22393)</td>\n",
       "    </tr>\n",
       "    <tr>\n",
       "      <th>3</th>\n",
       "      <td>Ashanti</td>\n",
       "      <td>Afigya-Kwabre</td>\n",
       "      <td>Aboabogya Health Centre</td>\n",
       "      <td>Health Centre</td>\n",
       "      <td>Aboabogya</td>\n",
       "      <td>Government</td>\n",
       "      <td>6.84177</td>\n",
       "      <td>-1.61098</td>\n",
       "      <td>POINT (-1.61098 6.84177)</td>\n",
       "    </tr>\n",
       "    <tr>\n",
       "      <th>4</th>\n",
       "      <td>Ashanti</td>\n",
       "      <td>Kwabre</td>\n",
       "      <td>Aboaso Health Centre</td>\n",
       "      <td>Health Centre</td>\n",
       "      <td>Aboaso</td>\n",
       "      <td>Government</td>\n",
       "      <td>6.84177</td>\n",
       "      <td>-1.61098</td>\n",
       "      <td>POINT (-1.61098 6.84177)</td>\n",
       "    </tr>\n",
       "  </tbody>\n",
       "</table>\n",
       "</div>"
      ],
      "text/plain": [
       "    Region          District             FacilityName           Type  \\\n",
       "0  Ashanti     Offinso North        A.M.E Zion Clinic         Clinic   \n",
       "1  Ashanti  Bekwai Municipal        Abenkyiman Clinic         Clinic   \n",
       "2  Ashanti      Adansi North     Aboabo Health Centre  Health Centre   \n",
       "3  Ashanti     Afigya-Kwabre  Aboabogya Health Centre  Health Centre   \n",
       "4  Ashanti            Kwabre     Aboaso Health Centre  Health Centre   \n",
       "\n",
       "           Town   Ownership  Latitude  Longitude                  geometry  \n",
       "0      Afrancho        CHAG   7.40801   -1.96317  POINT (-1.96317 7.40801)  \n",
       "1  Anwiankwanta     Private   6.46312   -1.58592  POINT (-1.58592 6.46312)  \n",
       "2   Aboabo No 2  Government   6.22393   -1.34982  POINT (-1.34982 6.22393)  \n",
       "3     Aboabogya  Government   6.84177   -1.61098  POINT (-1.61098 6.84177)  \n",
       "4        Aboaso  Government   6.84177   -1.61098  POINT (-1.61098 6.84177)  "
      ]
     },
     "execution_count": 11,
     "metadata": {},
     "output_type": "execute_result"
    }
   ],
   "source": [
    "#Converter pra GeoDataFrame\n",
    "facilities = gpd.GeoDataFrame(facilities_df, geometry=gpd.points_from_xy(facilities_df.Longitude, facilities_df.Latitude))   \n",
    "#Configurar o SRC\n",
    "facilities.crs = {'init': 'epsg:4326'}\n",
    "facilities.head()"
   ]
  },
  {
   "attachments": {},
   "cell_type": "markdown",
   "metadata": {},
   "source": [
    "# Reprojetando \n",
    "Se refere ao processo de mudança do SRC. Isso é feito a partir do método to_crs()\n",
    "Quando utilizando vários GeoDataFrames é importante que todos usem o mesmo SRC."
   ]
  },
  {
   "cell_type": "code",
   "execution_count": 12,
   "metadata": {},
   "outputs": [
    {
     "data": {
      "text/plain": [
       "<AxesSubplot:>"
      ]
     },
     "execution_count": 12,
     "metadata": {},
     "output_type": "execute_result"
    },
    {
     "data": {
      "image/png": "[encoded data removed]",
      "text/plain": [
       "<Figure size 1000x1000 with 1 Axes>"
      ]
     },
     "metadata": {},
     "output_type": "display_data"
    }
   ],
   "source": [
    "#Criando o mapa\n",
    "base = regions.plot(figsize=(10,10), color='white', linestyle=':', edgecolor='black')\n",
    "facilities.to_crs(epsg=32630).plot(markersize=1, ax=base)"
   ]
  },
  {
   "attachments": {},
   "cell_type": "markdown",
   "metadata": {},
   "source": [
    "O método to_crs() modifica apenas a coluna da geometria e mantém as outras da mesma maneira."
   ]
  },
  {
   "cell_type": "code",
   "execution_count": 13,
   "metadata": {},
   "outputs": [
    {
     "data": {
      "text/html": [
       "<div>\n",
       "<style scoped>\n",
       "    .dataframe tbody tr th:only-of-type {\n",
       "        vertical-align: middle;\n",
       "    }\n",
       "\n",
       "    .dataframe tbody tr th {\n",
       "        vertical-align: top;\n",
       "    }\n",
       "\n",
       "    .dataframe thead th {\n",
       "        text-align: right;\n",
       "    }\n",
       "</style>\n",
       "<table border=\"1\" class=\"dataframe\">\n",
       "  <thead>\n",
       "    <tr style=\"text-align: right;\">\n",
       "      <th></th>\n",
       "      <th>Region</th>\n",
       "      <th>District</th>\n",
       "      <th>FacilityName</th>\n",
       "      <th>Type</th>\n",
       "      <th>Town</th>\n",
       "      <th>Ownership</th>\n",
       "      <th>Latitude</th>\n",
       "      <th>Longitude</th>\n",
       "      <th>geometry</th>\n",
       "    </tr>\n",
       "  </thead>\n",
       "  <tbody>\n",
       "    <tr>\n",
       "      <th>0</th>\n",
       "      <td>Ashanti</td>\n",
       "      <td>Offinso North</td>\n",
       "      <td>A.M.E Zion Clinic</td>\n",
       "      <td>Clinic</td>\n",
       "      <td>Afrancho</td>\n",
       "      <td>CHAG</td>\n",
       "      <td>7.40801</td>\n",
       "      <td>-1.96317</td>\n",
       "      <td>POINT (614422.662 818986.851)</td>\n",
       "    </tr>\n",
       "    <tr>\n",
       "      <th>1</th>\n",
       "      <td>Ashanti</td>\n",
       "      <td>Bekwai Municipal</td>\n",
       "      <td>Abenkyiman Clinic</td>\n",
       "      <td>Clinic</td>\n",
       "      <td>Anwiankwanta</td>\n",
       "      <td>Private</td>\n",
       "      <td>6.46312</td>\n",
       "      <td>-1.58592</td>\n",
       "      <td>POINT (656373.863 714616.547)</td>\n",
       "    </tr>\n",
       "    <tr>\n",
       "      <th>2</th>\n",
       "      <td>Ashanti</td>\n",
       "      <td>Adansi North</td>\n",
       "      <td>Aboabo Health Centre</td>\n",
       "      <td>Health Centre</td>\n",
       "      <td>Aboabo No 2</td>\n",
       "      <td>Government</td>\n",
       "      <td>6.22393</td>\n",
       "      <td>-1.34982</td>\n",
       "      <td>POINT (682573.395 688243.477)</td>\n",
       "    </tr>\n",
       "    <tr>\n",
       "      <th>3</th>\n",
       "      <td>Ashanti</td>\n",
       "      <td>Afigya-Kwabre</td>\n",
       "      <td>Aboabogya Health Centre</td>\n",
       "      <td>Health Centre</td>\n",
       "      <td>Aboabogya</td>\n",
       "      <td>Government</td>\n",
       "      <td>6.84177</td>\n",
       "      <td>-1.61098</td>\n",
       "      <td>POINT (653484.490 756478.812)</td>\n",
       "    </tr>\n",
       "    <tr>\n",
       "      <th>4</th>\n",
       "      <td>Ashanti</td>\n",
       "      <td>Kwabre</td>\n",
       "      <td>Aboaso Health Centre</td>\n",
       "      <td>Health Centre</td>\n",
       "      <td>Aboaso</td>\n",
       "      <td>Government</td>\n",
       "      <td>6.84177</td>\n",
       "      <td>-1.61098</td>\n",
       "      <td>POINT (653484.490 756478.812)</td>\n",
       "    </tr>\n",
       "  </tbody>\n",
       "</table>\n",
       "</div>"
      ],
      "text/plain": [
       "    Region          District             FacilityName           Type  \\\n",
       "0  Ashanti     Offinso North        A.M.E Zion Clinic         Clinic   \n",
       "1  Ashanti  Bekwai Municipal        Abenkyiman Clinic         Clinic   \n",
       "2  Ashanti      Adansi North     Aboabo Health Centre  Health Centre   \n",
       "3  Ashanti     Afigya-Kwabre  Aboabogya Health Centre  Health Centre   \n",
       "4  Ashanti            Kwabre     Aboaso Health Centre  Health Centre   \n",
       "\n",
       "           Town   Ownership  Latitude  Longitude  \\\n",
       "0      Afrancho        CHAG   7.40801   -1.96317   \n",
       "1  Anwiankwanta     Private   6.46312   -1.58592   \n",
       "2   Aboabo No 2  Government   6.22393   -1.34982   \n",
       "3     Aboabogya  Government   6.84177   -1.61098   \n",
       "4        Aboaso  Government   6.84177   -1.61098   \n",
       "\n",
       "                        geometry  \n",
       "0  POINT (614422.662 818986.851)  \n",
       "1  POINT (656373.863 714616.547)  \n",
       "2  POINT (682573.395 688243.477)  \n",
       "3  POINT (653484.490 756478.812)  \n",
       "4  POINT (653484.490 756478.812)  "
      ]
     },
     "execution_count": 13,
     "metadata": {},
     "output_type": "execute_result"
    }
   ],
   "source": [
    "facilities.to_crs(epsg=32630).head()"
   ]
  },
  {
   "cell_type": "code",
   "execution_count": 14,
   "metadata": {},
   "outputs": [
    {
     "data": {
      "text/html": [
       "<div>\n",
       "<style scoped>\n",
       "    .dataframe tbody tr th:only-of-type {\n",
       "        vertical-align: middle;\n",
       "    }\n",
       "\n",
       "    .dataframe tbody tr th {\n",
       "        vertical-align: top;\n",
       "    }\n",
       "\n",
       "    .dataframe thead th {\n",
       "        text-align: right;\n",
       "    }\n",
       "</style>\n",
       "<table border=\"1\" class=\"dataframe\">\n",
       "  <thead>\n",
       "    <tr style=\"text-align: right;\">\n",
       "      <th></th>\n",
       "      <th>Region</th>\n",
       "      <th>District</th>\n",
       "      <th>FacilityName</th>\n",
       "      <th>Type</th>\n",
       "      <th>Town</th>\n",
       "      <th>Ownership</th>\n",
       "      <th>Latitude</th>\n",
       "      <th>Longitude</th>\n",
       "      <th>geometry</th>\n",
       "    </tr>\n",
       "  </thead>\n",
       "  <tbody>\n",
       "    <tr>\n",
       "      <th>0</th>\n",
       "      <td>Ashanti</td>\n",
       "      <td>Offinso North</td>\n",
       "      <td>A.M.E Zion Clinic</td>\n",
       "      <td>Clinic</td>\n",
       "      <td>Afrancho</td>\n",
       "      <td>CHAG</td>\n",
       "      <td>7.40801</td>\n",
       "      <td>-1.96317</td>\n",
       "      <td>POINT (-1.96317 7.40801)</td>\n",
       "    </tr>\n",
       "    <tr>\n",
       "      <th>1</th>\n",
       "      <td>Ashanti</td>\n",
       "      <td>Bekwai Municipal</td>\n",
       "      <td>Abenkyiman Clinic</td>\n",
       "      <td>Clinic</td>\n",
       "      <td>Anwiankwanta</td>\n",
       "      <td>Private</td>\n",
       "      <td>6.46312</td>\n",
       "      <td>-1.58592</td>\n",
       "      <td>POINT (-1.58592 6.46312)</td>\n",
       "    </tr>\n",
       "    <tr>\n",
       "      <th>2</th>\n",
       "      <td>Ashanti</td>\n",
       "      <td>Adansi North</td>\n",
       "      <td>Aboabo Health Centre</td>\n",
       "      <td>Health Centre</td>\n",
       "      <td>Aboabo No 2</td>\n",
       "      <td>Government</td>\n",
       "      <td>6.22393</td>\n",
       "      <td>-1.34982</td>\n",
       "      <td>POINT (-1.34982 6.22393)</td>\n",
       "    </tr>\n",
       "    <tr>\n",
       "      <th>3</th>\n",
       "      <td>Ashanti</td>\n",
       "      <td>Afigya-Kwabre</td>\n",
       "      <td>Aboabogya Health Centre</td>\n",
       "      <td>Health Centre</td>\n",
       "      <td>Aboabogya</td>\n",
       "      <td>Government</td>\n",
       "      <td>6.84177</td>\n",
       "      <td>-1.61098</td>\n",
       "      <td>POINT (-1.61098 6.84177)</td>\n",
       "    </tr>\n",
       "    <tr>\n",
       "      <th>4</th>\n",
       "      <td>Ashanti</td>\n",
       "      <td>Kwabre</td>\n",
       "      <td>Aboaso Health Centre</td>\n",
       "      <td>Health Centre</td>\n",
       "      <td>Aboaso</td>\n",
       "      <td>Government</td>\n",
       "      <td>6.84177</td>\n",
       "      <td>-1.61098</td>\n",
       "      <td>POINT (-1.61098 6.84177)</td>\n",
       "    </tr>\n",
       "  </tbody>\n",
       "</table>\n",
       "</div>"
      ],
      "text/plain": [
       "    Region          District             FacilityName           Type  \\\n",
       "0  Ashanti     Offinso North        A.M.E Zion Clinic         Clinic   \n",
       "1  Ashanti  Bekwai Municipal        Abenkyiman Clinic         Clinic   \n",
       "2  Ashanti      Adansi North     Aboabo Health Centre  Health Centre   \n",
       "3  Ashanti     Afigya-Kwabre  Aboabogya Health Centre  Health Centre   \n",
       "4  Ashanti            Kwabre     Aboaso Health Centre  Health Centre   \n",
       "\n",
       "           Town   Ownership  Latitude  Longitude                  geometry  \n",
       "0      Afrancho        CHAG   7.40801   -1.96317  POINT (-1.96317 7.40801)  \n",
       "1  Anwiankwanta     Private   6.46312   -1.58592  POINT (-1.58592 6.46312)  \n",
       "2   Aboabo No 2  Government   6.22393   -1.34982  POINT (-1.34982 6.22393)  \n",
       "3     Aboabogya  Government   6.84177   -1.61098  POINT (-1.61098 6.84177)  \n",
       "4        Aboaso  Government   6.84177   -1.61098  POINT (-1.61098 6.84177)  "
      ]
     },
     "execution_count": 14,
     "metadata": {},
     "output_type": "execute_result"
    }
   ],
   "source": [
    "facilities.head()"
   ]
  },
  {
   "attachments": {},
   "cell_type": "markdown",
   "metadata": {},
   "source": [
    "# Atributos de objetos geométricos\n",
    "Todos os três tipos de objetos geométricos possuem atributos integrados que você pode usar para analisar rapidamente o conjunto de dados. Por exemplo, você pode obter as coordenadas x e y de um ponto a partir dos atributos x e y, respectivamente."
   ]
  },
  {
   "cell_type": "code",
   "execution_count": 15,
   "metadata": {},
   "outputs": [
    {
     "data": {
      "text/plain": [
       "0   -1.96317\n",
       "1   -1.58592\n",
       "2   -1.34982\n",
       "3   -1.61098\n",
       "4   -1.61098\n",
       "dtype: float64"
      ]
     },
     "execution_count": 15,
     "metadata": {},
     "output_type": "execute_result"
    }
   ],
   "source": [
    "#Pega a coordenada x de cada ponto\n",
    "facilities.geometry.head().x"
   ]
  },
  {
   "attachments": {},
   "cell_type": "markdown",
   "metadata": {},
   "source": [
    "É possível obter o comprimento de uma linha pelo atributo lenght\n",
    "É possível obter a área do polígono pelo atributo area"
   ]
  },
  {
   "cell_type": "code",
   "execution_count": 16,
   "metadata": {},
   "outputs": [
    {
     "name": "stdout",
     "output_type": "stream",
     "text": [
      "Área de Gana: 239584.5760055668 quilômetros quadrados\n",
      "SRC: epsg:32630\n"
     ]
    },
    {
     "data": {
      "text/html": [
       "<div>\n",
       "<style scoped>\n",
       "    .dataframe tbody tr th:only-of-type {\n",
       "        vertical-align: middle;\n",
       "    }\n",
       "\n",
       "    .dataframe tbody tr th {\n",
       "        vertical-align: top;\n",
       "    }\n",
       "\n",
       "    .dataframe thead th {\n",
       "        text-align: right;\n",
       "    }\n",
       "</style>\n",
       "<table border=\"1\" class=\"dataframe\">\n",
       "  <thead>\n",
       "    <tr style=\"text-align: right;\">\n",
       "      <th></th>\n",
       "      <th>Region</th>\n",
       "      <th>geometry</th>\n",
       "      <th>AREA</th>\n",
       "    </tr>\n",
       "  </thead>\n",
       "  <tbody>\n",
       "    <tr>\n",
       "      <th>0</th>\n",
       "      <td>Ashanti</td>\n",
       "      <td>POLYGON ((686446.075 842986.894, 686666.193 84...</td>\n",
       "      <td>24379.017777</td>\n",
       "    </tr>\n",
       "    <tr>\n",
       "      <th>1</th>\n",
       "      <td>Brong Ahafo</td>\n",
       "      <td>POLYGON ((549970.457 968447.094, 550073.003 96...</td>\n",
       "      <td>40098.168231</td>\n",
       "    </tr>\n",
       "    <tr>\n",
       "      <th>2</th>\n",
       "      <td>Central</td>\n",
       "      <td>POLYGON ((603176.584 695877.238, 603248.424 69...</td>\n",
       "      <td>9665.626760</td>\n",
       "    </tr>\n",
       "    <tr>\n",
       "      <th>3</th>\n",
       "      <td>Eastern</td>\n",
       "      <td>POLYGON ((807307.254 797910.553, 807311.908 79...</td>\n",
       "      <td>18987.625847</td>\n",
       "    </tr>\n",
       "    <tr>\n",
       "      <th>4</th>\n",
       "      <td>Greater Accra</td>\n",
       "      <td>POLYGON ((858081.638 676424.913, 858113.115 67...</td>\n",
       "      <td>3706.511145</td>\n",
       "    </tr>\n",
       "  </tbody>\n",
       "</table>\n",
       "</div>"
      ],
      "text/plain": [
       "          Region                                           geometry  \\\n",
       "0        Ashanti  POLYGON ((686446.075 842986.894, 686666.193 84...   \n",
       "1    Brong Ahafo  POLYGON ((549970.457 968447.094, 550073.003 96...   \n",
       "2        Central  POLYGON ((603176.584 695877.238, 603248.424 69...   \n",
       "3        Eastern  POLYGON ((807307.254 797910.553, 807311.908 79...   \n",
       "4  Greater Accra  POLYGON ((858081.638 676424.913, 858113.115 67...   \n",
       "\n",
       "           AREA  \n",
       "0  24379.017777  \n",
       "1  40098.168231  \n",
       "2   9665.626760  \n",
       "3  18987.625847  \n",
       "4   3706.511145  "
      ]
     },
     "execution_count": 16,
     "metadata": {},
     "output_type": "execute_result"
    }
   ],
   "source": [
    "#Calcular a área (metros quadrados) de cada polígono no GeoDataFrame\n",
    "regions.loc[:, \"AREA\"] = regions.geometry.area / 10**6\n",
    "print(\"Área de Gana: {} quilômetros quadrados\".format(regions.AREA.sum()))\n",
    "print(\"SRC:\", regions.crs)\n",
    "regions.head()"
   ]
  },
  {
   "attachments": {},
   "cell_type": "markdown",
   "metadata": {},
   "source": [
    "Como a região do GeoDataFrame é a ESPG 32630 que é uma projeção de Mercator, o cálculo da área é um pouco menos preciso\n",
    "Área correta = 238.533 km²"
   ]
  }
 ],
 "metadata": {
  "kernelspec": {
   "display_name": "base",
   "language": "python",
   "name": "python3"
  },
  "language_info": {
   "codemirror_mode": {
    "name": "ipython",
    "version": 3
   },
   "file_extension": ".py",
   "mimetype": "text/x-python",
   "name": "python",
   "nbconvert_exporter": "python",
   "pygments_lexer": "ipython3",
   "version": "3.9.13"
  },
  "orig_nbformat": 4,
  "vscode": {
   "interpreter": {
    "hash": "112989f40982219f9c2133127490be09f86560db102a13a350eb86b01002b443"
   }
  }
 },
 "nbformat": 4,
 "nbformat_minor": 2
}
